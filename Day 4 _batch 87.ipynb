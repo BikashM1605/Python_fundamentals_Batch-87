{
 "cells": [
  {
   "cell_type": "code",
   "execution_count": 1,
   "id": "8b5a0d5a-b053-417e-88c0-7a9467e0969b",
   "metadata": {},
   "outputs": [
    {
     "ename": "SyntaxError",
     "evalue": "invalid syntax (2791849552.py, line 1)",
     "output_type": "error",
     "traceback": [
      "\u001b[1;36m  Cell \u001b[1;32mIn[1], line 1\u001b[1;36m\u001b[0m\n\u001b[1;33m    Introduction to list datatypes :\u001b[0m\n\u001b[1;37m                 ^\u001b[0m\n\u001b[1;31mSyntaxError\u001b[0m\u001b[1;31m:\u001b[0m invalid syntax\n"
     ]
    }
   ],
   "source": [
    "Introduction to list datatypes :"
   ]
  },
  {
   "cell_type": "code",
   "execution_count": null,
   "id": "0931c010-ee42-46d1-a7da-d4e22a16861b",
   "metadata": {},
   "outputs": [],
   "source": [
    "definition :- A list is a collection of items declared in a particular order\n",
    "Classification :- It is a mutable data types\n",
    "\n",
    "how to declare the list data types  --- []"
   ]
  },
  {
   "cell_type": "code",
   "execution_count": null,
   "id": "cb009825-70f5-469a-af77-ffa9979bd542",
   "metadata": {},
   "outputs": [],
   "source": []
  },
  {
   "cell_type": "code",
   "execution_count": 4,
   "id": "679eee37-5a50-47c8-9b7f-922ffb60b410",
   "metadata": {},
   "outputs": [],
   "source": [
    "students = ['joy','aakash','bikash','suresh','dipak','mukesh']"
   ]
  },
  {
   "cell_type": "code",
   "execution_count": 5,
   "id": "02f2c6c3-3cf5-4e64-a59c-d04231ff2be9",
   "metadata": {},
   "outputs": [
    {
     "name": "stdout",
     "output_type": "stream",
     "text": [
      "['joy', 'aakash', 'bikash', 'suresh', 'dipak', 'mukesh']\n"
     ]
    }
   ],
   "source": [
    "print(students)"
   ]
  },
  {
   "cell_type": "code",
   "execution_count": null,
   "id": "9fc3f4e9-35e0-498e-960a-681155416bfe",
   "metadata": {},
   "outputs": [],
   "source": []
  },
  {
   "cell_type": "code",
   "execution_count": 6,
   "id": "ebe1a2b2-0f92-43bc-bc11-863a86d76791",
   "metadata": {},
   "outputs": [],
   "source": [
    "##Introduction to indexing --0,1,2,3,4,...........n"
   ]
  },
  {
   "cell_type": "code",
   "execution_count": 7,
   "id": "80b39dfe-816e-4d3d-8b9e-1d76fb9746ac",
   "metadata": {},
   "outputs": [
    {
     "name": "stdout",
     "output_type": "stream",
     "text": [
      "aakash\n"
     ]
    }
   ],
   "source": [
    "print(students[1])"
   ]
  },
  {
   "cell_type": "code",
   "execution_count": 9,
   "id": "f91c9e22-5c85-4d0e-8802-e8c79c687f71",
   "metadata": {},
   "outputs": [
    {
     "name": "stdout",
     "output_type": "stream",
     "text": [
      "Aakash\n"
     ]
    }
   ],
   "source": [
    "print(students[1].title())"
   ]
  },
  {
   "cell_type": "code",
   "execution_count": 10,
   "id": "ce45386c-885d-47db-bf59-e2f1f8b6c628",
   "metadata": {},
   "outputs": [],
   "source": [
    "##how to add new elements in the list.\n",
    "##how to modify the elements in the list\n",
    "##how to delete the elements in the list"
   ]
  },
  {
   "cell_type": "code",
   "execution_count": 11,
   "id": "12d5cf09-2ad7-4a58-a405-e3c6f4f44c92",
   "metadata": {},
   "outputs": [
    {
     "name": "stdout",
     "output_type": "stream",
     "text": [
      "['joy', 'aakash', 'bikash', 'suresh', 'dipak', 'mukesh']\n"
     ]
    }
   ],
   "source": [
    "print(students)"
   ]
  },
  {
   "cell_type": "code",
   "execution_count": 12,
   "id": "a95c4d81-57c7-4175-ba11-86ad194201b7",
   "metadata": {},
   "outputs": [],
   "source": [
    "# I want to add priya in the list "
   ]
  },
  {
   "cell_type": "code",
   "execution_count": 15,
   "id": "277a41b7-717c-48ca-9417-e699ccfc174d",
   "metadata": {},
   "outputs": [],
   "source": [
    "students.append('priya')"
   ]
  },
  {
   "cell_type": "code",
   "execution_count": 16,
   "id": "d4dad7b1-a594-4f23-a155-a96577deab1e",
   "metadata": {},
   "outputs": [
    {
     "name": "stdout",
     "output_type": "stream",
     "text": [
      "['joy', 'aakash', 'bikash', 'suresh', 'dipak', 'mukesh', 'priya', 'priya']\n"
     ]
    }
   ],
   "source": [
    "print(students)"
   ]
  },
  {
   "cell_type": "code",
   "execution_count": 17,
   "id": "d892551b-7852-4652-8a32-81acadb2039c",
   "metadata": {},
   "outputs": [],
   "source": [
    "## I want to add john in the 3rd position in the list"
   ]
  },
  {
   "cell_type": "code",
   "execution_count": 20,
   "id": "2f1f5032-2986-416e-aa3b-3b3d783bca37",
   "metadata": {},
   "outputs": [],
   "source": [
    "students.insert(3,'John')"
   ]
  },
  {
   "cell_type": "code",
   "execution_count": 21,
   "id": "4133198f-8120-4087-af86-23c36de759b0",
   "metadata": {},
   "outputs": [
    {
     "name": "stdout",
     "output_type": "stream",
     "text": [
      "['joy', 'aakash', 'bikash', 'John', 'priya', 'suresh', 'dipak', 'mukesh', 'priya', 'priya']\n"
     ]
    }
   ],
   "source": [
    "print(students)"
   ]
  },
  {
   "cell_type": "code",
   "execution_count": null,
   "id": "a520a9e2-2987-42de-808e-422feeb579ae",
   "metadata": {},
   "outputs": [],
   "source": [
    "## req : i want to modify james name to john"
   ]
  },
  {
   "cell_type": "code",
   "execution_count": 22,
   "id": "79b6b2c7-40db-4063-97b7-5f8f4b0bb9fa",
   "metadata": {},
   "outputs": [],
   "source": [
    "students[3] = 'james'"
   ]
  },
  {
   "cell_type": "code",
   "execution_count": 23,
   "id": "80879987-3abc-46ad-bb98-039c33a18f4b",
   "metadata": {},
   "outputs": [
    {
     "name": "stdout",
     "output_type": "stream",
     "text": [
      "['joy', 'aakash', 'bikash', 'james', 'priya', 'suresh', 'dipak', 'mukesh', 'priya', 'priya']\n"
     ]
    }
   ],
   "source": [
    "print(students)"
   ]
  },
  {
   "cell_type": "code",
   "execution_count": 24,
   "id": "2ebd86d2-80ac-412f-9b70-252a53d91801",
   "metadata": {},
   "outputs": [],
   "source": [
    "## I want to delete priya"
   ]
  },
  {
   "cell_type": "code",
   "execution_count": 26,
   "id": "68a45ec6-37c0-47b9-a571-5747c0d09746",
   "metadata": {},
   "outputs": [],
   "source": [
    "del students[4]"
   ]
  },
  {
   "cell_type": "code",
   "execution_count": 27,
   "id": "52b8b48f-3b4c-4511-be8f-df31f832a1ca",
   "metadata": {},
   "outputs": [
    {
     "name": "stdout",
     "output_type": "stream",
     "text": [
      "['joy', 'aakash', 'bikash', 'james', 'suresh', 'dipak', 'mukesh', 'priya', 'priya']\n"
     ]
    }
   ],
   "source": [
    "print(students)"
   ]
  },
  {
   "cell_type": "code",
   "execution_count": null,
   "id": "b5152f8b-8730-4b27-b161-da83edaae82f",
   "metadata": {},
   "outputs": [],
   "source": []
  },
  {
   "cell_type": "code",
   "execution_count": null,
   "id": "9148c15f-2cae-4659-b2c0-b739a3ffdb66",
   "metadata": {},
   "outputs": [],
   "source": []
  },
  {
   "cell_type": "code",
   "execution_count": null,
   "id": "f24d6a6e-55e3-4995-8a05-37861a347d66",
   "metadata": {},
   "outputs": [],
   "source": []
  },
  {
   "cell_type": "code",
   "execution_count": null,
   "id": "59bac0f5-5064-41b7-bc26-ee96f8e99c4e",
   "metadata": {},
   "outputs": [],
   "source": []
  }
 ],
 "metadata": {
  "kernelspec": {
   "display_name": "Python 3 (ipykernel)",
   "language": "python",
   "name": "python3"
  },
  "language_info": {
   "codemirror_mode": {
    "name": "ipython",
    "version": 3
   },
   "file_extension": ".py",
   "mimetype": "text/x-python",
   "name": "python",
   "nbconvert_exporter": "python",
   "pygments_lexer": "ipython3",
   "version": "3.12.4"
  }
 },
 "nbformat": 4,
 "nbformat_minor": 5
}
