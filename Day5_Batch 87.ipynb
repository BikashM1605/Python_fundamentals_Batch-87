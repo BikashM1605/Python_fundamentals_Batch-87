{
 "cells": [
  {
   "cell_type": "code",
   "execution_count": null,
   "id": "0c7d66f9-2188-4586-abc7-7ae9e7fbb414",
   "metadata": {},
   "outputs": [],
   "source": [
    "Continuation to list datatypes "
   ]
  },
  {
   "cell_type": "code",
   "execution_count": 2,
   "id": "be92418a-77fb-441c-a6c6-67726e59d0b3",
   "metadata": {},
   "outputs": [
    {
     "ename": "SyntaxError",
     "evalue": "invalid syntax (3572686847.py, line 1)",
     "output_type": "error",
     "traceback": [
      "\u001b[1;36m  Cell \u001b[1;32mIn[2], line 1\u001b[1;36m\u001b[0m\n\u001b[1;33m    Oranising the list datatypes:-\u001b[0m\n\u001b[1;37m              ^\u001b[0m\n\u001b[1;31mSyntaxError\u001b[0m\u001b[1;31m:\u001b[0m invalid syntax\n"
     ]
    }
   ],
   "source": [
    "Oranising the list datatypes:-"
   ]
  },
  {
   "cell_type": "code",
   "execution_count": 3,
   "id": "a9f02a38-b81f-448d-902c-4395eaa61925",
   "metadata": {},
   "outputs": [],
   "source": [
    "cars = ['maruti','bmw','kia','suzuki','volksvogon','benz','byd','tesla','audi']"
   ]
  },
  {
   "cell_type": "code",
   "execution_count": 4,
   "id": "5c087bfb-c75c-49c7-9dfb-e566cd2db2e5",
   "metadata": {},
   "outputs": [],
   "source": [
    "## req: A to Z order "
   ]
  },
  {
   "cell_type": "code",
   "execution_count": 5,
   "id": "05d3288c-0566-4eb9-9660-0672459a6f09",
   "metadata": {},
   "outputs": [
    {
     "ename": "SyntaxError",
     "evalue": "invalid syntax (2816387250.py, line 1)",
     "output_type": "error",
     "traceback": [
      "\u001b[1;36m  Cell \u001b[1;32mIn[5], line 1\u001b[1;36m\u001b[0m\n\u001b[1;33m    Two approaches\u001b[0m\n\u001b[1;37m        ^\u001b[0m\n\u001b[1;31mSyntaxError\u001b[0m\u001b[1;31m:\u001b[0m invalid syntax\n"
     ]
    }
   ],
   "source": [
    "Two approaches \n",
    "\n",
    "1. Temp approach - 'sorted'\n",
    "2. Permanent approach - 'sort'"
   ]
  },
  {
   "cell_type": "code",
   "execution_count": 6,
   "id": "fd2a42f8-d65b-44a1-9a50-1628f0fb363e",
   "metadata": {},
   "outputs": [
    {
     "name": "stdout",
     "output_type": "stream",
     "text": [
      "['audi', 'benz', 'bmw', 'byd', 'kia', 'maruti', 'suzuki', 'tesla', 'volksvogon']\n"
     ]
    }
   ],
   "source": [
    "print(sorted(cars))"
   ]
  },
  {
   "cell_type": "code",
   "execution_count": 8,
   "id": "5e90eeee-c708-4c07-997d-655d5880d934",
   "metadata": {},
   "outputs": [
    {
     "name": "stdout",
     "output_type": "stream",
     "text": [
      "['maruti', 'bmw', 'kia', 'suzuki', 'volksvogon', 'benz', 'byd', 'tesla', 'audi']\n"
     ]
    }
   ],
   "source": [
    "print(cars)"
   ]
  },
  {
   "cell_type": "code",
   "execution_count": 10,
   "id": "a1b42d37-3423-4234-8700-99bcbec4aef5",
   "metadata": {},
   "outputs": [],
   "source": [
    "cars.sort()"
   ]
  },
  {
   "cell_type": "code",
   "execution_count": 11,
   "id": "735674c8-a0d5-4a5c-b6e1-03c5fca01b2e",
   "metadata": {},
   "outputs": [
    {
     "name": "stdout",
     "output_type": "stream",
     "text": [
      "['audi', 'benz', 'bmw', 'byd', 'kia', 'maruti', 'suzuki', 'tesla', 'volksvogon']\n"
     ]
    }
   ],
   "source": [
    "print(cars)"
   ]
  },
  {
   "cell_type": "code",
   "execution_count": 12,
   "id": "e6e2a876-b2d2-46db-a323-ed434fb8ea61",
   "metadata": {},
   "outputs": [],
   "source": [
    "### Thus it is observed that after using sorted we can still get the orginal position but after we use sort it remains permanently to its current position."
   ]
  },
  {
   "cell_type": "code",
   "execution_count": 13,
   "id": "44924c7b-e1a2-4d2e-8e73-77dd645f71bb",
   "metadata": {},
   "outputs": [],
   "source": [
    "## I want to know how many brands are there in the lst "
   ]
  },
  {
   "cell_type": "code",
   "execution_count": 14,
   "id": "286feae6-e720-4fde-9874-474953281ab2",
   "metadata": {},
   "outputs": [
    {
     "name": "stdout",
     "output_type": "stream",
     "text": [
      "['audi', 'benz', 'bmw', 'byd', 'kia', 'maruti', 'suzuki', 'tesla', 'volksvogon']\n"
     ]
    }
   ],
   "source": [
    "print(cars)"
   ]
  },
  {
   "cell_type": "code",
   "execution_count": 15,
   "id": "c35b0815-5aa0-493c-b08d-ae72ccc16f1b",
   "metadata": {},
   "outputs": [
    {
     "data": {
      "text/plain": [
       "9"
      ]
     },
     "execution_count": 15,
     "metadata": {},
     "output_type": "execute_result"
    }
   ],
   "source": [
    "len(cars)"
   ]
  },
  {
   "cell_type": "code",
   "execution_count": 16,
   "id": "67c32f50-095e-40d2-85e3-4309314a4a11",
   "metadata": {},
   "outputs": [],
   "source": [
    "## req :- want to get the list in reverse order Z-A"
   ]
  },
  {
   "cell_type": "code",
   "execution_count": 17,
   "id": "3272dba4-e416-4a8d-a0a9-2e88e07cf2d0",
   "metadata": {},
   "outputs": [],
   "source": [
    "cars.reverse()"
   ]
  },
  {
   "cell_type": "code",
   "execution_count": 18,
   "id": "37eae25c-ee15-4c3f-8b59-5ec3415fda07",
   "metadata": {},
   "outputs": [
    {
     "name": "stdout",
     "output_type": "stream",
     "text": [
      "['volksvogon', 'tesla', 'suzuki', 'maruti', 'kia', 'byd', 'bmw', 'benz', 'audi']\n"
     ]
    }
   ],
   "source": [
    "print(cars)"
   ]
  },
  {
   "cell_type": "code",
   "execution_count": null,
   "id": "a1cec627-ed4a-48b5-964b-653472be9c6f",
   "metadata": {},
   "outputs": [],
   "source": []
  },
  {
   "cell_type": "code",
   "execution_count": null,
   "id": "686dc556-d563-47ec-b89b-bb327eadb7bd",
   "metadata": {},
   "outputs": [],
   "source": [
    "Introduction to slicing :_ "
   ]
  },
  {
   "cell_type": "code",
   "execution_count": 19,
   "id": "77384d8d-5d75-42f1-a9aa-3bc260d98d32",
   "metadata": {},
   "outputs": [],
   "source": [
    "##general syntax of slicing"
   ]
  },
  {
   "cell_type": "code",
   "execution_count": null,
   "id": "b56fb9ab-f075-43d4-9bec-9902d017d055",
   "metadata": {},
   "outputs": [],
   "source": [
    "[start_value:stop_value:step_count]"
   ]
  },
  {
   "cell_type": "code",
   "execution_count": 20,
   "id": "a00e8c53-f0c8-44f2-9095-6e6a60204d80",
   "metadata": {},
   "outputs": [],
   "source": [
    "## nOTE :- last_value/ stop_value is always exclusive. To include the stop value we have to increase it by +1 always."
   ]
  },
  {
   "cell_type": "code",
   "execution_count": 34,
   "id": "ed465d5a-fe8f-4069-8c89-7c683ccf999c",
   "metadata": {},
   "outputs": [],
   "source": [
    "students =['arvind','dinesh','naveed','joseph','pooja','adeeba','hafijunnisha','keerti']"
   ]
  },
  {
   "cell_type": "code",
   "execution_count": 35,
   "id": "ec13e66f-e322-47b8-a551-97373f8db62a",
   "metadata": {},
   "outputs": [
    {
     "name": "stdout",
     "output_type": "stream",
     "text": [
      "['arvind', 'dinesh', 'naveed', 'joseph', 'pooja', 'adeeba', 'hafijunnisha', 'keerti']\n"
     ]
    }
   ],
   "source": [
    "print(students)"
   ]
  },
  {
   "cell_type": "code",
   "execution_count": null,
   "id": "32d8a48f-6a20-4388-8cd6-6b7292d5405b",
   "metadata": {},
   "outputs": [],
   "source": []
  },
  {
   "cell_type": "code",
   "execution_count": 36,
   "id": "2564c178-20b4-4051-8335-00166c0a6e00",
   "metadata": {},
   "outputs": [],
   "source": [
    "## Req I want to include arvind and dinesh in th list"
   ]
  },
  {
   "cell_type": "code",
   "execution_count": 37,
   "id": "393964d8-2a1d-4e89-9e47-615f7044b7b7",
   "metadata": {},
   "outputs": [
    {
     "name": "stdout",
     "output_type": "stream",
     "text": [
      "['arvind']\n"
     ]
    }
   ],
   "source": [
    "print(students[0:1])"
   ]
  },
  {
   "cell_type": "code",
   "execution_count": 38,
   "id": "503e619d-bbda-42e0-8f9d-933d4a50b11a",
   "metadata": {},
   "outputs": [
    {
     "name": "stdout",
     "output_type": "stream",
     "text": [
      "['arvind', 'dinesh']\n"
     ]
    }
   ],
   "source": [
    "print(students[0:2])"
   ]
  },
  {
   "cell_type": "code",
   "execution_count": 39,
   "id": "15017564-1be4-4927-aad9-cd99a161bf50",
   "metadata": {},
   "outputs": [],
   "source": [
    "##Requirement : Naveed and joseph in the output"
   ]
  },
  {
   "cell_type": "code",
   "execution_count": 40,
   "id": "1fb2418a-7540-48b5-8ac2-3a1fb9e504df",
   "metadata": {},
   "outputs": [
    {
     "name": "stdout",
     "output_type": "stream",
     "text": [
      "['naveed', 'joseph']\n"
     ]
    }
   ],
   "source": [
    "print(students[2:4])"
   ]
  },
  {
   "cell_type": "code",
   "execution_count": 41,
   "id": "5a230792-3629-4352-aa3d-0f2a9c11e67e",
   "metadata": {},
   "outputs": [],
   "source": [
    "## Implementation of step value. Need every 2nd name )"
   ]
  },
  {
   "cell_type": "code",
   "execution_count": 43,
   "id": "416e753d-13d3-4ee6-b874-35091502d17a",
   "metadata": {},
   "outputs": [
    {
     "name": "stdout",
     "output_type": "stream",
     "text": [
      "['arvind', 'naveed', 'pooja', 'hafijunnisha']\n"
     ]
    }
   ],
   "source": [
    "print(students[0:8:2])"
   ]
  },
  {
   "cell_type": "code",
   "execution_count": null,
   "id": "be2a17b6-344f-49f6-a08f-fa6aed92f7c6",
   "metadata": {},
   "outputs": [],
   "source": [
    "## startvalue : stopvalue : stepcount(the step which you want to follow ) like here we wanted the 2nd student from the list thus 0:8(last count):2 (number which you wanted) "
   ]
  },
  {
   "cell_type": "code",
   "execution_count": null,
   "id": "8a8de7bc-c689-4c6c-8f24-302cc82b2702",
   "metadata": {},
   "outputs": [],
   "source": [
    "String and list difference :-"
   ]
  },
  {
   "cell_type": "code",
   "execution_count": null,
   "id": "8237ac35-05a4-41df-a2a5-a2e909b639e8",
   "metadata": {},
   "outputs": [],
   "source": []
  },
  {
   "cell_type": "code",
   "execution_count": null,
   "id": "71434377-e5fa-49df-8afc-f76df56161db",
   "metadata": {},
   "outputs": [],
   "source": []
  }
 ],
 "metadata": {
  "kernelspec": {
   "display_name": "Python 3 (ipykernel)",
   "language": "python",
   "name": "python3"
  },
  "language_info": {
   "codemirror_mode": {
    "name": "ipython",
    "version": 3
   },
   "file_extension": ".py",
   "mimetype": "text/x-python",
   "name": "python",
   "nbconvert_exporter": "python",
   "pygments_lexer": "ipython3",
   "version": "3.12.4"
  }
 },
 "nbformat": 4,
 "nbformat_minor": 5
}
