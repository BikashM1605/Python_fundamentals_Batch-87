{
 "cells": [
  {
   "cell_type": "code",
   "execution_count": null,
   "id": "edd03bc6-2a55-4b98-8b95-469cf8f7d08a",
   "metadata": {},
   "outputs": [],
   "source": [
    "Introduction to Python programming:"
   ]
  },
  {
   "cell_type": "code",
   "execution_count": null,
   "id": "9eeb5c23-f2b0-4795-ae26-2b8189954eb2",
   "metadata": {},
   "outputs": [],
   "source": [
    "Understanding the variables in python"
   ]
  },
  {
   "cell_type": "code",
   "execution_count": 1,
   "id": "cad39ac8-adb1-4997-b5a3-c9cf5e82c640",
   "metadata": {},
   "outputs": [],
   "source": [
    "x = 2\n",
    "y = 3"
   ]
  },
  {
   "cell_type": "code",
   "execution_count": 13,
   "id": "ca2c5dce-3942-4dab-9d97-0ff36ea38aa5",
   "metadata": {},
   "outputs": [
    {
     "ename": "NameError",
     "evalue": "name 'y' is not defined",
     "output_type": "error",
     "traceback": [
      "\u001b[1;31m---------------------------------------------------------------------------\u001b[0m",
      "\u001b[1;31mNameError\u001b[0m                                 Traceback (most recent call last)",
      "Cell \u001b[1;32mIn[13], line 1\u001b[0m\n\u001b[1;32m----> 1\u001b[0m z \u001b[38;5;241m=\u001b[39m x\u001b[38;5;241m+\u001b[39my\n\u001b[0;32m      2\u001b[0m \u001b[38;5;28mprint\u001b[39m(z)\n",
      "\u001b[1;31mNameError\u001b[0m: name 'y' is not defined"
     ]
    }
   ],
   "source": [
    "z = x+y\n",
    "print(z)"
   ]
  },
  {
   "cell_type": "code",
   "execution_count": null,
   "id": "e2ce6007-e394-4034-99ea-d3ed31ea48eb",
   "metadata": {},
   "outputs": [],
   "source": [
    "Rules for declaring the variables in python:"
   ]
  },
  {
   "cell_type": "code",
   "execution_count": null,
   "id": "f4f750ab-1ac8-4e70-ae6a-5dce2d8152e5",
   "metadata": {},
   "outputs": [],
   "source": [
    "Rule 1 :- No Namespaces for declaring variables in python, Like :-"
   ]
  },
  {
   "cell_type": "code",
   "execution_count": 15,
   "id": "b69eb202-a39c-4993-951d-6fdf1b9fe117",
   "metadata": {},
   "outputs": [
    {
     "ename": "SyntaxError",
     "evalue": "invalid syntax (1885902101.py, line 1)",
     "output_type": "error",
     "traceback": [
      "\u001b[1;36m  Cell \u001b[1;32mIn[15], line 1\u001b[1;36m\u001b[0m\n\u001b[1;33m    first name = 'Bikash'\u001b[0m\n\u001b[1;37m          ^\u001b[0m\n\u001b[1;31mSyntaxError\u001b[0m\u001b[1;31m:\u001b[0m invalid syntax\n"
     ]
    }
   ],
   "source": [
    "first name = 'Bikash'\n",
    "\n",
    "print(first name)"
   ]
  },
  {
   "cell_type": "code",
   "execution_count": 17,
   "id": "efdf020c-b564-459d-815a-b1d118698ac9",
   "metadata": {},
   "outputs": [
    {
     "name": "stdout",
     "output_type": "stream",
     "text": [
      "Bikash\n"
     ]
    }
   ],
   "source": [
    "firstname = 'Bikash'\n",
    "\n",
    "print(firstname)"
   ]
  },
  {
   "cell_type": "code",
   "execution_count": null,
   "id": "1ddb49e4-f6d4-415f-ba07-129d387618e3",
   "metadata": {},
   "outputs": [],
   "source": [
    "Rule 2 :- A variable number should not start with a number Like :- **"
   ]
  },
  {
   "cell_type": "code",
   "execution_count": 19,
   "id": "d5aa5f28-852a-47a8-b925-c96b94edc086",
   "metadata": {},
   "outputs": [
    {
     "ename": "SyntaxError",
     "evalue": "invalid decimal literal (2348596406.py, line 1)",
     "output_type": "error",
     "traceback": [
      "\u001b[1;36m  Cell \u001b[1;32mIn[19], line 1\u001b[1;36m\u001b[0m\n\u001b[1;33m    1name = 'Bikash'\u001b[0m\n\u001b[1;37m    ^\u001b[0m\n\u001b[1;31mSyntaxError\u001b[0m\u001b[1;31m:\u001b[0m invalid decimal literal\n"
     ]
    }
   ],
   "source": [
    "1name = 'Bikash'\n",
    "\n",
    "print(1name)"
   ]
  },
  {
   "cell_type": "code",
   "execution_count": 21,
   "id": "8bf130a4-91fc-4a83-8e09-1447eed749fc",
   "metadata": {},
   "outputs": [
    {
     "name": "stdout",
     "output_type": "stream",
     "text": [
      "Bikash\n"
     ]
    }
   ],
   "source": [
    "name1 = 'Bikash'\n",
    "\n",
    "print(name1)"
   ]
  },
  {
   "cell_type": "code",
   "execution_count": null,
   "id": "db153244-2c57-4aa7-9a7d-539d2d59eabb",
   "metadata": {},
   "outputs": [],
   "source": [
    "Rule 3 = A variable should not contain special character"
   ]
  },
  {
   "cell_type": "code",
   "execution_count": null,
   "id": "7e1f7493-83dd-4946-b2ef-74a22cfccd38",
   "metadata": {},
   "outputs": [],
   "source": [
    "@,#,$,%,&"
   ]
  },
  {
   "cell_type": "code",
   "execution_count": 25,
   "id": "419f78a7-5b37-4c84-9d5c-5dbb5e7a8a47",
   "metadata": {},
   "outputs": [
    {
     "ename": "SyntaxError",
     "evalue": "invalid syntax (2940649065.py, line 1)",
     "output_type": "error",
     "traceback": [
      "\u001b[1;36m  Cell \u001b[1;32mIn[25], line 1\u001b[1;36m\u001b[0m\n\u001b[1;33m    name@ = 'bikash'\u001b[0m\n\u001b[1;37m          ^\u001b[0m\n\u001b[1;31mSyntaxError\u001b[0m\u001b[1;31m:\u001b[0m invalid syntax\n"
     ]
    }
   ],
   "source": [
    "name@ = 'bikash'\n",
    "\n",
    "print(name@)"
   ]
  },
  {
   "cell_type": "code",
   "execution_count": null,
   "id": "4d5480b4-7604-43b5-af9f-6000a9a4c455",
   "metadata": {},
   "outputs": [],
   "source": [
    "Introduction to datatypes :"
   ]
  },
  {
   "cell_type": "code",
   "execution_count": null,
   "id": "0285e1b1-09b8-476b-93dd-50ce00a5c045",
   "metadata": {},
   "outputs": [],
   "source": [
    "1. Strings -- denoted as str\n",
    "2. numbers called as Integers and are -- denoted as int , and floats called as decimals like 0.1,.2 ets and denoted as ---float\n",
    "3. Lists --- denoted as list\n",
    "4. tuples --- denoted as tuple\n",
    "5. dictionaries --- denoted as dict"
   ]
  },
  {
   "cell_type": "code",
   "execution_count": null,
   "id": "232efa6f-330b-48ed-b1e5-3e1f2f322753",
   "metadata": {},
   "outputs": [],
   "source": []
  },
  {
   "cell_type": "code",
   "execution_count": null,
   "id": "7b11f445-8185-4323-9765-1761a870a472",
   "metadata": {},
   "outputs": [],
   "source": [
    "Classification of datatypes :- "
   ]
  },
  {
   "cell_type": "code",
   "execution_count": null,
   "id": "53b92b5d-6827-4c39-b2c6-6f2eb7a83858",
   "metadata": {},
   "outputs": [],
   "source": [
    "Datatypes are boardly classified into two categories :\n",
    "\n",
    "1. mutable datatypes - We can edit/alter and is flexible in nature\n",
    "2. immutable datatypes --we cannot edit or alter this and it is fixed in nature."
   ]
  },
  {
   "cell_type": "code",
   "execution_count": null,
   "id": "ead52bdb-8f1b-4fa1-a960-9fa996c0565c",
   "metadata": {},
   "outputs": [],
   "source": [
    "Introduction to string datatypes : "
   ]
  },
  {
   "cell_type": "code",
   "execution_count": null,
   "id": "56d010f0-5a45-4e5b-9f9d-dabadd03540b",
   "metadata": {},
   "outputs": [],
   "source": [
    "Definition of String Datatypes:- A string is nothing but a series of characters declared in quotes.\n",
    "\n",
    "Classification:- It is a mutable datatypes\n",
    "\n",
    "String datatypes can be declared in single quotes'' or double quotes \"\" like "
   ]
  },
  {
   "cell_type": "code",
   "execution_count": 27,
   "id": "2eb09a57-9860-41ca-bc19-1c20f575881b",
   "metadata": {},
   "outputs": [
    {
     "name": "stdout",
     "output_type": "stream",
     "text": [
      "Bikash\n"
     ]
    }
   ],
   "source": [
    "name = 'Bikash'\n",
    "\n",
    "print(name)"
   ]
  },
  {
   "cell_type": "code",
   "execution_count": 29,
   "id": "d537999c-acf3-4238-b896-8e48ada96555",
   "metadata": {},
   "outputs": [
    {
     "name": "stdout",
     "output_type": "stream",
     "text": [
      "Bikash\n"
     ]
    }
   ],
   "source": [
    "name = \"Bikash\"\n",
    "\n",
    "print(name)"
   ]
  },
  {
   "cell_type": "code",
   "execution_count": null,
   "id": "72453c86-0aa3-4d9a-91b3-f9b8be98835b",
   "metadata": {},
   "outputs": [],
   "source": [
    "Introduction to string methods :-"
   ]
  },
  {
   "cell_type": "code",
   "execution_count": null,
   "id": "6597f341-67d9-4e9e-a987-21f37cd05d4e",
   "metadata": {},
   "outputs": [],
   "source": [
    "# Need to check the datatype "
   ]
  },
  {
   "cell_type": "code",
   "execution_count": 31,
   "id": "56856308-22ae-4de4-946e-677b0f1a285b",
   "metadata": {},
   "outputs": [
    {
     "data": {
      "text/plain": [
       "str"
      ]
     },
     "execution_count": 31,
     "metadata": {},
     "output_type": "execute_result"
    }
   ],
   "source": [
    "type(name)"
   ]
  },
  {
   "cell_type": "code",
   "execution_count": 33,
   "id": "fd37fa33-89bc-4976-bcd8-fcdd8dfd6908",
   "metadata": {},
   "outputs": [
    {
     "name": "stdout",
     "output_type": "stream",
     "text": [
      "bikash mishra\n"
     ]
    }
   ],
   "source": [
    "fullname = 'bikash mishra'\n",
    "\n",
    "print(fullname)"
   ]
  },
  {
   "cell_type": "code",
   "execution_count": null,
   "id": "02fccb2d-a0f2-445e-894e-1119744bb7ff",
   "metadata": {},
   "outputs": [],
   "source": [
    "# Need to change the first letter of first and last name in capital"
   ]
  },
  {
   "cell_type": "code",
   "execution_count": 35,
   "id": "fc5da59d-1fb6-4fb4-837f-5ebd4830fcaf",
   "metadata": {},
   "outputs": [
    {
     "name": "stdout",
     "output_type": "stream",
     "text": [
      "Bikash Mishra\n"
     ]
    }
   ],
   "source": [
    "print(fullname.title())"
   ]
  },
  {
   "cell_type": "code",
   "execution_count": null,
   "id": "403a873f-4e50-4d38-aa1a-ab2ac2fbf8ff",
   "metadata": {},
   "outputs": [],
   "source": [
    "# need to change the full name in capital letter"
   ]
  },
  {
   "cell_type": "code",
   "execution_count": 37,
   "id": "f5700382-c5fd-475c-bc71-260a0f7004d3",
   "metadata": {},
   "outputs": [
    {
     "name": "stdout",
     "output_type": "stream",
     "text": [
      "BIKASH MISHRA\n"
     ]
    }
   ],
   "source": [
    "print(fullname.upper())"
   ]
  },
  {
   "cell_type": "code",
   "execution_count": null,
   "id": "496d1f2c-bed3-41cb-8a94-2c5ae32dbe78",
   "metadata": {},
   "outputs": [],
   "source": [
    "# need to change it to small letter "
   ]
  },
  {
   "cell_type": "code",
   "execution_count": 39,
   "id": "333a9863-d80d-467a-aebd-f48899a8bd60",
   "metadata": {},
   "outputs": [
    {
     "name": "stdout",
     "output_type": "stream",
     "text": [
      "bikash mishra\n"
     ]
    }
   ],
   "source": [
    "print(fullname.lower())"
   ]
  },
  {
   "cell_type": "code",
   "execution_count": null,
   "id": "4c6c9117-e6ff-43eb-ba21-3ae50c6508b4",
   "metadata": {},
   "outputs": [],
   "source": []
  },
  {
   "cell_type": "code",
   "execution_count": null,
   "id": "eb00c669-89cd-4ab3-882d-1704bf7e85ef",
   "metadata": {},
   "outputs": [],
   "source": []
  },
  {
   "cell_type": "code",
   "execution_count": null,
   "id": "bb2ad3b0-1598-425d-8110-d98efea73fab",
   "metadata": {},
   "outputs": [],
   "source": []
  }
 ],
 "metadata": {
  "kernelspec": {
   "display_name": "Python 3 (ipykernel)",
   "language": "python",
   "name": "python3"
  },
  "language_info": {
   "codemirror_mode": {
    "name": "ipython",
    "version": 3
   },
   "file_extension": ".py",
   "mimetype": "text/x-python",
   "name": "python",
   "nbconvert_exporter": "python",
   "pygments_lexer": "ipython3",
   "version": "3.12.4"
  }
 },
 "nbformat": 4,
 "nbformat_minor": 5
}
