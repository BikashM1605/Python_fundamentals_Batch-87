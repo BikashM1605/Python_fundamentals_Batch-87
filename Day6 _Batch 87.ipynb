{
 "cells": [
  {
   "cell_type": "code",
   "execution_count": 1,
   "id": "cd70a8c3-c2e4-46bc-af61-7ce1181f77e7",
   "metadata": {},
   "outputs": [
    {
     "ename": "SyntaxError",
     "evalue": "invalid syntax (816488972.py, line 1)",
     "output_type": "error",
     "traceback": [
      "\u001b[1;36m  Cell \u001b[1;32mIn[1], line 1\u001b[1;36m\u001b[0m\n\u001b[1;33m    Introduction to looping statement :-\u001b[0m\n\u001b[1;37m                 ^\u001b[0m\n\u001b[1;31mSyntaxError\u001b[0m\u001b[1;31m:\u001b[0m invalid syntax\n"
     ]
    }
   ],
   "source": [
    "Introduction to looping statement :- "
   ]
  },
  {
   "cell_type": "code",
   "execution_count": 2,
   "id": "d9c0584e-cc10-408b-8b79-e565b2fa6dea",
   "metadata": {},
   "outputs": [],
   "source": [
    "## for loop "
   ]
  },
  {
   "cell_type": "code",
   "execution_count": 3,
   "id": "cce284bb-c917-4618-ac1a-cb097c5942d3",
   "metadata": {},
   "outputs": [],
   "source": [
    "## general syntax of for loop"
   ]
  },
  {
   "cell_type": "code",
   "execution_count": null,
   "id": "c817d3aa-658d-47b4-aa92-30013fca4ea8",
   "metadata": {},
   "outputs": [],
   "source": []
  },
  {
   "cell_type": "code",
   "execution_count": 5,
   "id": "80801700-4fc5-4c53-b127-d33d814015d6",
   "metadata": {},
   "outputs": [
    {
     "ename": "NameError",
     "evalue": "name 'mainvar' is not defined",
     "output_type": "error",
     "traceback": [
      "\u001b[1;31m---------------------------------------------------------------------------\u001b[0m",
      "\u001b[1;31mNameError\u001b[0m                                 Traceback (most recent call last)",
      "Cell \u001b[1;32mIn[5], line 1\u001b[0m\n\u001b[1;32m----> 1\u001b[0m \u001b[38;5;28;01mfor\u001b[39;00m tempvar \u001b[38;5;129;01min\u001b[39;00m mainvar:\n\u001b[0;32m      2\u001b[0m     \u001b[38;5;28mprint\u001b[39m(tempvar)\n",
      "\u001b[1;31mNameError\u001b[0m: name 'mainvar' is not defined"
     ]
    }
   ],
   "source": [
    "for tempvar in mainvar:\n",
    "    print(tempvar)"
   ]
  },
  {
   "cell_type": "code",
   "execution_count": 6,
   "id": "e0aa0107-83fd-4e3f-a66f-e2b958fb49e9",
   "metadata": {},
   "outputs": [],
   "source": [
    "students = ['santosh','arvind','adnan''kiran','heera','naveena']"
   ]
  },
  {
   "cell_type": "code",
   "execution_count": 7,
   "id": "33bd435a-050c-4db3-b4fe-db58c4b5f880",
   "metadata": {},
   "outputs": [
    {
     "name": "stdout",
     "output_type": "stream",
     "text": [
      "['santosh', 'arvind', 'adnankiran', 'heera', 'naveena']\n"
     ]
    }
   ],
   "source": [
    "print(students)"
   ]
  },
  {
   "cell_type": "code",
   "execution_count": 9,
   "id": "f99d11b9-daca-4a83-9e81-f149f3dc42d5",
   "metadata": {},
   "outputs": [
    {
     "name": "stdout",
     "output_type": "stream",
     "text": [
      "keep up the good work, Santosh\n"
     ]
    }
   ],
   "source": [
    "print(f\"keep up the good work, {students[0].title()}\")"
   ]
  },
  {
   "cell_type": "code",
   "execution_count": 10,
   "id": "7d3f937a-8893-4cbd-948a-f85b116ccefa",
   "metadata": {},
   "outputs": [
    {
     "name": "stdout",
     "output_type": "stream",
     "text": [
      "keep up the good work, Arvind\n"
     ]
    }
   ],
   "source": [
    "print(f\"keep up the good work, {students[1].title()}\")"
   ]
  },
  {
   "cell_type": "code",
   "execution_count": 12,
   "id": "6d6d3004-4a4d-483a-a3e7-d851f4b7d554",
   "metadata": {},
   "outputs": [
    {
     "name": "stdout",
     "output_type": "stream",
     "text": [
      "keep up the good work, Santosh\n",
      "keep up the good work, Arvind\n",
      "keep up the good work, Adnankiran\n",
      "keep up the good work, Heera\n",
      "keep up the good work, Naveena\n"
     ]
    }
   ],
   "source": [
    "for student in students:\n",
    "    print(f\"keep up the good work, {student.title()}\")"
   ]
  },
  {
   "cell_type": "code",
   "execution_count": 13,
   "id": "e0674431-d877-40f6-94ee-a4de23697ee1",
   "metadata": {},
   "outputs": [
    {
     "ename": "NameError",
     "evalue": "name 'mainvar' is not defined",
     "output_type": "error",
     "traceback": [
      "\u001b[1;31m---------------------------------------------------------------------------\u001b[0m",
      "\u001b[1;31mNameError\u001b[0m                                 Traceback (most recent call last)",
      "Cell \u001b[1;32mIn[13], line 1\u001b[0m\n\u001b[1;32m----> 1\u001b[0m \u001b[38;5;28;01mfor\u001b[39;00m tempvar \u001b[38;5;129;01min\u001b[39;00m mainvar:\n\u001b[0;32m      2\u001b[0m     \u001b[38;5;28mprint\u001b[39m(tempvar)\n",
      "\u001b[1;31mNameError\u001b[0m: name 'mainvar' is not defined"
     ]
    }
   ],
   "source": [
    "for tempvar in mainvar:\n",
    "    print(tempvar)"
   ]
  },
  {
   "cell_type": "code",
   "execution_count": 14,
   "id": "1399ec56-aebe-422a-bc80-fec5a687d7cb",
   "metadata": {},
   "outputs": [
    {
     "name": "stdout",
     "output_type": "stream",
     "text": [
      "santosh\n",
      "arvind\n",
      "adnankiran\n",
      "heera\n",
      "naveena\n"
     ]
    }
   ],
   "source": [
    "for ironman in students:\n",
    "    print(ironman)"
   ]
  },
  {
   "cell_type": "code",
   "execution_count": 17,
   "id": "6139fba5-a613-436d-b730-a99a94417776",
   "metadata": {},
   "outputs": [
    {
     "name": "stdout",
     "output_type": "stream",
     "text": [
      "keep up the good work,Santosh\n",
      "I am waiting to receive your todays submission, Santosh\n",
      "keep up the good work,Arvind\n",
      "I am waiting to receive your todays submission, Arvind\n",
      "keep up the good work,Adnankiran\n",
      "I am waiting to receive your todays submission, Adnankiran\n",
      "keep up the good work,Heera\n",
      "I am waiting to receive your todays submission, Heera\n",
      "keep up the good work,Naveena\n",
      "I am waiting to receive your todays submission, Naveena\n"
     ]
    }
   ],
   "source": [
    "for student in students:\n",
    "    print(f\"keep up the good work,{student.title()}\")\n",
    "    print(f\"I am waiting to receive your todays submission, {student.title()}\")"
   ]
  },
  {
   "cell_type": "code",
   "execution_count": 18,
   "id": "0ec45e23-f70c-4ec9-9063-cd6a4eb2cea3",
   "metadata": {},
   "outputs": [
    {
     "name": "stdout",
     "output_type": "stream",
     "text": [
      "keep up the good work,Santosh\n",
      "I am waiting to receive your todays submission, Santosh\n",
      "\n",
      "keep up the good work,Arvind\n",
      "I am waiting to receive your todays submission, Arvind\n",
      "\n",
      "keep up the good work,Adnankiran\n",
      "I am waiting to receive your todays submission, Adnankiran\n",
      "\n",
      "keep up the good work,Heera\n",
      "I am waiting to receive your todays submission, Heera\n",
      "\n",
      "keep up the good work,Naveena\n",
      "I am waiting to receive your todays submission, Naveena\n",
      "\n"
     ]
    }
   ],
   "source": [
    "for student in students:\n",
    "    print(f\"keep up the good work,{student.title()}\")\n",
    "    print(f\"I am waiting to receive your todays submission, {student.title()}\\n\")"
   ]
  },
  {
   "cell_type": "code",
   "execution_count": 19,
   "id": "413d9ffb-1ae5-4d75-bb3b-c5b486dc4eb6",
   "metadata": {},
   "outputs": [
    {
     "name": "stdout",
     "output_type": "stream",
     "text": [
      "keep up the good work,Santosh\n",
      "I am waiting to receive your todays submission, Santosh\n",
      "keep up the good work,Arvind\n",
      "I am waiting to receive your todays submission, Arvind\n",
      "keep up the good work,Adnankiran\n",
      "I am waiting to receive your todays submission, Adnankiran\n",
      "keep up the good work,Heera\n",
      "I am waiting to receive your todays submission, Heera\n",
      "keep up the good work,Naveena\n",
      "I am waiting to receive your todays submission, Naveena\n",
      "thak you all for showig iterest i learning python\n"
     ]
    }
   ],
   "source": [
    "for student in students:\n",
    "    print(f\"keep up the good work,{student.title()}\")\n",
    "    print(f\"I am waiting to receive your todays submission, {student.title()}\")\n",
    "\n",
    "print(f\"thak you all for showig iterest i learning python\")"
   ]
  },
  {
   "cell_type": "code",
   "execution_count": null,
   "id": "332a6e0b-e657-4c88-a481-920fd7df305f",
   "metadata": {},
   "outputs": [],
   "source": []
  },
  {
   "cell_type": "code",
   "execution_count": null,
   "id": "e916aebd-c1bd-4f5e-a447-51c6470026f9",
   "metadata": {},
   "outputs": [],
   "source": []
  },
  {
   "cell_type": "code",
   "execution_count": null,
   "id": "71e861be-254e-43fa-920c-766a7bce9b56",
   "metadata": {},
   "outputs": [],
   "source": []
  },
  {
   "cell_type": "code",
   "execution_count": null,
   "id": "9a316320-9d3a-4ffb-936d-fb8d7e424de9",
   "metadata": {},
   "outputs": [],
   "source": []
  },
  {
   "cell_type": "code",
   "execution_count": null,
   "id": "0c98627b-d0bb-4f13-99aa-f8faef7c1ba9",
   "metadata": {},
   "outputs": [],
   "source": []
  }
 ],
 "metadata": {
  "kernelspec": {
   "display_name": "Python 3 (ipykernel)",
   "language": "python",
   "name": "python3"
  },
  "language_info": {
   "codemirror_mode": {
    "name": "ipython",
    "version": 3
   },
   "file_extension": ".py",
   "mimetype": "text/x-python",
   "name": "python",
   "nbconvert_exporter": "python",
   "pygments_lexer": "ipython3",
   "version": "3.12.4"
  }
 },
 "nbformat": 4,
 "nbformat_minor": 5
}
