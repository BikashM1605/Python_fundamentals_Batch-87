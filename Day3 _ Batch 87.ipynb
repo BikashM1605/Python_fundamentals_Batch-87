{
 "cells": [
  {
   "cell_type": "code",
   "execution_count": 1,
   "id": "9c0ae692-dd24-42a6-8b77-acc572f8f9a1",
   "metadata": {},
   "outputs": [],
   "source": [
    "firstname = 'bikash'\n",
    "lastname = 'mishra'"
   ]
  },
  {
   "cell_type": "code",
   "execution_count": 2,
   "id": "2cc9e674-1405-48b9-b758-3a8e414abe5a",
   "metadata": {},
   "outputs": [
    {
     "name": "stdout",
     "output_type": "stream",
     "text": [
      "bikash mishra\n"
     ]
    }
   ],
   "source": [
    "fullname = f\"{firstname} {lastname}\"\n",
    "\n",
    "print(fullname)"
   ]
  },
  {
   "cell_type": "code",
   "execution_count": 3,
   "id": "8cf388df-4973-47c5-8189-f5f047c33b44",
   "metadata": {},
   "outputs": [],
   "source": [
    "#make the first letter and last name first letter capital"
   ]
  },
  {
   "cell_type": "code",
   "execution_count": 4,
   "id": "85fc2323-6993-4c1d-8931-5eefc1121234",
   "metadata": {},
   "outputs": [
    {
     "name": "stdout",
     "output_type": "stream",
     "text": [
      "Bikash Mishra\n"
     ]
    }
   ],
   "source": [
    "print(fullname.title())"
   ]
  },
  {
   "cell_type": "code",
   "execution_count": 5,
   "id": "7d47d19e-4b5e-4e31-bb5c-0a57e9888d07",
   "metadata": {},
   "outputs": [],
   "source": [
    "#Make full name in capital letter "
   ]
  },
  {
   "cell_type": "code",
   "execution_count": 6,
   "id": "c752504f-a725-4089-91cd-2c1942e516ee",
   "metadata": {},
   "outputs": [
    {
     "name": "stdout",
     "output_type": "stream",
     "text": [
      "BIKASH MISHRA\n"
     ]
    }
   ],
   "source": [
    "print(fullname.upper())"
   ]
  },
  {
   "cell_type": "code",
   "execution_count": 7,
   "id": "da106b3d-0940-4d38-94f0-f86dda70472d",
   "metadata": {},
   "outputs": [],
   "source": [
    "#make full name in small letter"
   ]
  },
  {
   "cell_type": "code",
   "execution_count": 8,
   "id": "82ac83f1-df4d-4e0c-be82-335e1710b002",
   "metadata": {},
   "outputs": [
    {
     "name": "stdout",
     "output_type": "stream",
     "text": [
      "bikash mishra\n"
     ]
    }
   ],
   "source": [
    "print(fullname.lower())"
   ]
  },
  {
   "cell_type": "code",
   "execution_count": 9,
   "id": "e0f894a7-5a75-4abe-afdc-210f23a03826",
   "metadata": {},
   "outputs": [
    {
     "name": "stdout",
     "output_type": "stream",
     "text": [
      "keep up the good work, Bikash Mishra\n"
     ]
    }
   ],
   "source": [
    "message = f\"keep up the good work, {fullname.title()}\"\n",
    "\n",
    "print(message)"
   ]
  },
  {
   "cell_type": "code",
   "execution_count": null,
   "id": "ee2db1f9-403a-42cc-9679-caf896e923ce",
   "metadata": {},
   "outputs": [],
   "source": []
  },
  {
   "cell_type": "code",
   "execution_count": 10,
   "id": "cc465419-69a4-453e-bf1e-02d136d9d0c0",
   "metadata": {},
   "outputs": [],
   "source": [
    "## adding white spaces to strings :"
   ]
  },
  {
   "cell_type": "code",
   "execution_count": 11,
   "id": "4685e1f2-2ac8-4a44-a1ee-a254f43b59db",
   "metadata": {},
   "outputs": [
    {
     "name": "stdout",
     "output_type": "stream",
     "text": [
      "python_language:pythonc++javapascalcobol\n"
     ]
    }
   ],
   "source": [
    "print(\"python_language:pythonc++javapascalcobol\")"
   ]
  },
  {
   "cell_type": "code",
   "execution_count": 12,
   "id": "5e20ac94-0b80-45a9-8499-87a36e02174b",
   "metadata": {},
   "outputs": [
    {
     "name": "stdout",
     "output_type": "stream",
     "text": [
      "python_language:\n",
      "python\n",
      "c++\n",
      "java\n",
      "pascal\n",
      "cobol\n"
     ]
    }
   ],
   "source": [
    "print(\"python_language:\\npython\\nc++\\njava\\npascal\\ncobol\")"
   ]
  },
  {
   "cell_type": "code",
   "execution_count": 13,
   "id": "16f82d39-07ea-4bbb-b518-ec34d3d043b9",
   "metadata": {},
   "outputs": [],
   "source": [
    "## \\n ++++++ is new line delimiter"
   ]
  },
  {
   "cell_type": "code",
   "execution_count": 14,
   "id": "8b5e3e8f-ee05-44f3-92a5-1441bac18b7c",
   "metadata": {},
   "outputs": [
    {
     "name": "stdout",
     "output_type": "stream",
     "text": [
      "python_language:\n",
      "\tpython\n",
      "\tc++\n",
      "\tjava\n",
      "\tpascal\n",
      "\tcobol\n"
     ]
    }
   ],
   "source": [
    "print(\"python_language:\\n\\tpython\\n\\tc++\\n\\tjava\\n\\tpascal\\n\\tcobol\")"
   ]
  },
  {
   "cell_type": "code",
   "execution_count": 15,
   "id": "6ac6c500-1d52-4630-8aae-91ec69f6f060",
   "metadata": {},
   "outputs": [],
   "source": [
    "### \\t --==== is a tab delimiter ( means it will give space to the left hand side of the statement or word."
   ]
  },
  {
   "cell_type": "code",
   "execution_count": 16,
   "id": "df0155a7-673b-4538-b86f-7d89a19a2cdf",
   "metadata": {},
   "outputs": [],
   "source": [
    "## Removing whitespaces from strings:"
   ]
  },
  {
   "cell_type": "code",
   "execution_count": 17,
   "id": "d442e489-eb9e-4303-b51d-83613e6c2c99",
   "metadata": {},
   "outputs": [
    {
     "name": "stdout",
     "output_type": "stream",
     "text": [
      " bikash\n"
     ]
    }
   ],
   "source": [
    "name =' bikash'\n",
    "print(name)"
   ]
  },
  {
   "cell_type": "code",
   "execution_count": 18,
   "id": "56a1a314-45ab-4011-a8bc-57b735f4d42e",
   "metadata": {},
   "outputs": [
    {
     "name": "stdout",
     "output_type": "stream",
     "text": [
      "prakash\n"
     ]
    }
   ],
   "source": [
    "name1 = 'prakash'\n",
    "\n",
    "print(name1)"
   ]
  },
  {
   "cell_type": "code",
   "execution_count": 20,
   "id": "1b1e6dc8-09c9-4b4c-9815-c419a07188e7",
   "metadata": {},
   "outputs": [
    {
     "name": "stdout",
     "output_type": "stream",
     "text": [
      "jagan \n"
     ]
    }
   ],
   "source": [
    "name2 = 'jagan '\n",
    "print(name2)"
   ]
  },
  {
   "cell_type": "code",
   "execution_count": 23,
   "id": "27b3c971-68ed-431c-ac6d-b2bd01ebe5ab",
   "metadata": {},
   "outputs": [],
   "source": [
    "### left strip ==lstrip== left  for removing the left spae \n",
    "## right strip ==rstrip==right for removing the right space\n",
    "## strip ---- for removing spaces from both side."
   ]
  },
  {
   "cell_type": "code",
   "execution_count": 24,
   "id": "8e700829-30a9-4871-9fc3-37b16e1ef902",
   "metadata": {},
   "outputs": [
    {
     "data": {
      "text/plain": [
       "'bikash'"
      ]
     },
     "execution_count": 24,
     "metadata": {},
     "output_type": "execute_result"
    }
   ],
   "source": [
    "name.lstrip()"
   ]
  },
  {
   "cell_type": "code",
   "execution_count": 26,
   "id": "812d2809-9227-46c3-b39b-c064bd50dcd6",
   "metadata": {},
   "outputs": [
    {
     "data": {
      "text/plain": [
       "'jagan'"
      ]
     },
     "execution_count": 26,
     "metadata": {},
     "output_type": "execute_result"
    }
   ],
   "source": [
    "name2.rstrip()"
   ]
  },
  {
   "cell_type": "code",
   "execution_count": null,
   "id": "f02b485a-7daf-48d9-92f8-d843b26d87fa",
   "metadata": {},
   "outputs": [],
   "source": [
    "zen of python"
   ]
  },
  {
   "cell_type": "code",
   "execution_count": null,
   "id": "9963f18d-9479-4eed-b1c4-22f07ae24d7c",
   "metadata": {},
   "outputs": [],
   "source": []
  },
  {
   "cell_type": "code",
   "execution_count": null,
   "id": "92da44d9-92f2-465c-85f3-7a73db829331",
   "metadata": {},
   "outputs": [],
   "source": []
  }
 ],
 "metadata": {
  "kernelspec": {
   "display_name": "Python 3 (ipykernel)",
   "language": "python",
   "name": "python3"
  },
  "language_info": {
   "codemirror_mode": {
    "name": "ipython",
    "version": 3
   },
   "file_extension": ".py",
   "mimetype": "text/x-python",
   "name": "python",
   "nbconvert_exporter": "python",
   "pygments_lexer": "ipython3",
   "version": "3.12.4"
  }
 },
 "nbformat": 4,
 "nbformat_minor": 5
}
